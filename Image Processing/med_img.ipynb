{
 "cells": [
  {
   "cell_type": "code",
   "execution_count": 1,
   "metadata": {},
   "outputs": [],
   "source": [
    "\"\"\"\n",
    "OpenCV is a library for performing image manipulation and detection.\n",
    "\"\"\"\n",
    "import cv2\n"
   ]
  },
  {
   "cell_type": "code",
   "execution_count": null,
   "metadata": {},
   "outputs": [],
   "source": [
    "\"\"\"\n",
    "Reads an image in, passing the path and filename, and a -1, which will read the image as is.\n",
    "-1: read image as is.\n",
    "0: greyscale\n",
    "1: color image.\n",
    "The imread() outputs a NumPy array of RGB color values.\n",
    "\"\"\"\n",
    "img = cv2.imread('th.jpeg',-1)\n",
    "\n",
    "# Displays the image in a separate window. First parameter assigns a name to the image. Second calls the NumPy array object.\n",
    "cv2.imshow(\"Tom Hardy\", img)\n",
    "\n",
    "\n",
    "\n",
    "# Takes down all windows based on the waitKey() called above.\n",
    "cv2.destroyAllWindows()\n",
    "\n",
    "# Stops display of the image when user presses any key.\n",
    "cv2.waitKey(200)\n"
   ]
  },
  {
   "cell_type": "code",
   "execution_count": null,
   "metadata": {},
   "outputs": [],
   "source": [
    "\"\"\"\n",
    "Resizing\n",
    "\"\"\"\n",
    "\n",
    "r_img = cv2.resize(img, (200,200))\n",
    "cv2.imshow(\"Resized\", r_img)\n",
    "cv2.waitKey(0)\n",
    "cv2.destroyAllWindows()"
   ]
  },
  {
   "cell_type": "code",
   "execution_count": null,
   "metadata": {},
   "outputs": [],
   "source": []
  }
 ],
 "metadata": {
  "kernelspec": {
   "display_name": "Python 3",
   "language": "python",
   "name": "python3"
  },
  "language_info": {
   "codemirror_mode": {
    "name": "ipython",
    "version": 3
   },
   "file_extension": ".py",
   "mimetype": "text/x-python",
   "name": "python",
   "nbconvert_exporter": "python",
   "pygments_lexer": "ipython3",
   "version": "3.7.1"
  }
 },
 "nbformat": 4,
 "nbformat_minor": 2
}
