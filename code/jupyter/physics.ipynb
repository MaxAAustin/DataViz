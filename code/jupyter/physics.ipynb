{
 "cells": [
  {
   "cell_type": "code",
   "execution_count": 8,
   "metadata": {},
   "outputs": [],
   "source": [
    "import pandas as pd\n",
    "import numpy as np\n",
    "import matplotlib.pyplot as plt\n",
    "import math"
   ]
  },
  {
   "cell_type": "code",
   "execution_count": 10,
   "metadata": {},
   "outputs": [],
   "source": [
    "\"\"\"\n",
    "Constants defined here\n",
    "Scientific notation syntax: var = [number]e[power]\n",
    "Taken from: https://physics.info/constants/\n",
    "\"\"\"\n",
    "c_light = 299792458 #Speed of light (m/s)\n",
    "\n",
    "h_planck = 6.62607015e-34 #Planck's constant (J s)\n",
    "\n",
    "G = 6.67408e-11 #Gravitational constant (N m2/kg2)\n",
    "\n",
    "g = 9.80665 #Standard gravity acceleration (m/s**2)\n",
    "\n",
    "e_charge = 1.602176634e-19 #Elementary charge (C)\n",
    "\n",
    "mag_ = 12.5663706144e-7 #Magnetic permeativity of free space (T m/A)\n",
    "\n",
    "k_boltz = 1.380649e-23 #Boltzmann constant (J/K)\n",
    "\n",
    "o_stef_boltz = 5.670370374419e-8 #Stefan-Boltzmann (W/m**2K**4)\n",
    "\n",
    "R = 8.314462618 #Ideal gas constant (J/mol K)\n",
    "\n",
    "avog = 6.02214076e23\n",
    "########################## Masses\n",
    "m_proton = 1.672e-27   # Mass of proton (kg) \n",
    "m_electron = 9.109e-31 # Mass of electron (kg)\n",
    "m_neutron = 1.674e-27  # Mass of neutron (kg)"
   ]
  },
  {
   "cell_type": "code",
   "execution_count": 11,
   "metadata": {},
   "outputs": [],
   "source": [
    "\"\"\"\n",
    "Calculation functions/ equations here\n",
    "\"\"\"\n",
    "\"\"\"\n",
    "Calculate weight using float mass given and multiplying by g accel constant defined above. \n",
    "\"\"\"\n",
    "def weight(mass):\n",
    "    return mass*g\n",
    "\n",
    "def momentum(mass,velocity):\n",
    "    return mass*velocity\n",
    "\n",
    "def centrip_accel(velocity, radius):\n",
    "    return (velocity**2/radius)\n",
    "\n",
    "def kinetic_energy(mass, velocity):\n",
    "    return ((mass*velocity**2)/2)\n",
    "\n",
    "def orbital_speed(mass, radius):\n",
    "    gmr = (G*mass)/radius\n",
    "    return math.sqrt(gmr)\n",
    "\n",
    "\n",
    "    "
   ]
  },
  {
   "cell_type": "code",
   "execution_count": null,
   "metadata": {},
   "outputs": [],
   "source": []
  }
 ],
 "metadata": {
  "kernelspec": {
   "display_name": "Python 3",
   "language": "python",
   "name": "python3"
  },
  "language_info": {
   "codemirror_mode": {
    "name": "ipython",
    "version": 3
   },
   "file_extension": ".py",
   "mimetype": "text/x-python",
   "name": "python",
   "nbconvert_exporter": "python",
   "pygments_lexer": "ipython3",
   "version": "3.6.5"
  }
 },
 "nbformat": 4,
 "nbformat_minor": 2
}
