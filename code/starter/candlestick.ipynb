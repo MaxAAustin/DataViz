{
 "cells": [
  {
   "cell_type": "code",
   "execution_count": null,
   "metadata": {},
   "outputs": [],
   "source": [
    "import pandas as pd\n",
    "import matplotlib.pyplot as plt\n",
    "from mpl_finance import candlestick_ohlc\n",
    "import seaborn as sns\n",
    "import matplotlib.ticker as mt\n",
    "import matplotlib.dates as mdates\n",
    "import datetime as dt\n",
    "\n",
    "# Takes seconds given (Unix time) and converts to useful Dat\n",
    "def readabledate (unixtime):    \n",
    "    return dt.datetime.fromtimestamp(float(unixtime))\n",
    "\n",
    "df = pd.read_csv('cm.csv')\n",
    "print(df.columns,\"\\n\")\n",
    "print(df.info(),\"\\n\")\n",
    "\n",
    "print(df.describe())"
   ]
  }
 ],
 "metadata": {
  "kernelspec": {
   "display_name": "Python 3",
   "language": "python",
   "name": "python3"
  },
  "language_info": {
   "codemirror_mode": {
    "name": "ipython",
    "version": 3
   },
   "file_extension": ".py",
   "mimetype": "text/x-python",
   "name": "python",
   "nbconvert_exporter": "python",
   "pygments_lexer": "ipython3",
   "version": "3.7.1"
  }
 },
 "nbformat": 4,
 "nbformat_minor": 2
}
